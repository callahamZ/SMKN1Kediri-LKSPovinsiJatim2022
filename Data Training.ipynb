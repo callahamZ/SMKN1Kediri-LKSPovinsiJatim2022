{
 "cells": [
  {
   "cell_type": "code",
   "execution_count": 1,
   "id": "35224b39",
   "metadata": {},
   "outputs": [],
   "source": [
    "import numpy as np\n",
    "import pandas as pd\n",
    "from collections import Counter"
   ]
  },
  {
   "cell_type": "code",
   "execution_count": 2,
   "id": "bdf694a4",
   "metadata": {},
   "outputs": [],
   "source": [
    "#Mengimport data testing\n",
    "dftest = pd.read_csv('data_test.csv', delimiter=';')\n",
    "dftest.drop('No. Urut', axis=1, inplace=True)\n",
    "dftest.dropna(inplace=True) ##\n",
    "\n",
    "#Mengimport data training\n",
    "dftrain = pd.read_csv('data_train.csv', delimiter=';')\n",
    "dftrain.drop('No', axis=1, inplace=True)\n",
    "\n",
    "#Mengatasi data Null di kolom Huruf\n",
    "dftrain['HURUF'].fillna(value='NA', inplace=True)\n",
    "\n",
    "#Mengelompokkan kolom zone\n",
    "cols = dftrain.columns[1:]\n",
    "\n",
    "# Metode Z score\n",
    "dfz = dftrain.copy()\n",
    "for i in cols:\n",
    "    dfz[i] = (dftrain[i]-dftrain[i].mean())/dftrain[i].std()\n",
    "\n",
    "#print(dfz.head())\n",
    "\n",
    "#Menggunakan metode Minmaxscaler\n",
    "dfmms = dftrain.copy()\n",
    "for a in cols:\n",
    "    dfmms[a] = (dftrain[a] - dftrain[a].min()) / (dftrain[a].max() - dftrain[a].min())\n",
    "# print(dfmms.head())\n",
    "\n",
    "#Mempersiapkan data untuk training\n",
    "x = dfz.drop('HURUF', axis=1)\n",
    "y = dfz.HURUF"
   ]
  },
  {
   "cell_type": "code",
   "execution_count": 3,
   "id": "9ca1cfd4",
   "metadata": {},
   "outputs": [
    {
     "data": {
      "text/html": [
       "<div>\n",
       "<style scoped>\n",
       "    .dataframe tbody tr th:only-of-type {\n",
       "        vertical-align: middle;\n",
       "    }\n",
       "\n",
       "    .dataframe tbody tr th {\n",
       "        vertical-align: top;\n",
       "    }\n",
       "\n",
       "    .dataframe thead th {\n",
       "        text-align: right;\n",
       "    }\n",
       "</style>\n",
       "<table border=\"1\" class=\"dataframe\">\n",
       "  <thead>\n",
       "    <tr style=\"text-align: right;\">\n",
       "      <th></th>\n",
       "      <th>Z1</th>\n",
       "      <th>Z2</th>\n",
       "      <th>Z3</th>\n",
       "      <th>Z4</th>\n",
       "      <th>Z5</th>\n",
       "      <th>Z6</th>\n",
       "      <th>Z7</th>\n",
       "      <th>Z8</th>\n",
       "      <th>Z9</th>\n",
       "      <th>Z10</th>\n",
       "      <th>Z11</th>\n",
       "      <th>Z12</th>\n",
       "      <th>Z13</th>\n",
       "      <th>Z14</th>\n",
       "      <th>Z15</th>\n",
       "      <th>Z16</th>\n",
       "    </tr>\n",
       "  </thead>\n",
       "  <tbody>\n",
       "    <tr>\n",
       "      <th>0</th>\n",
       "      <td>1.184164</td>\n",
       "      <td>-0.483281</td>\n",
       "      <td>0.599098</td>\n",
       "      <td>-0.378007</td>\n",
       "      <td>0.503118</td>\n",
       "      <td>0.680363</td>\n",
       "      <td>-0.026111</td>\n",
       "      <td>-0.190653</td>\n",
       "      <td>-0.134226</td>\n",
       "      <td>0.852160</td>\n",
       "      <td>-0.260252</td>\n",
       "      <td>-0.241015</td>\n",
       "      <td>0.166938</td>\n",
       "      <td>0.978193</td>\n",
       "      <td>-0.078989</td>\n",
       "      <td>0.411856</td>\n",
       "    </tr>\n",
       "    <tr>\n",
       "      <th>1</th>\n",
       "      <td>-0.595716</td>\n",
       "      <td>-1.220924</td>\n",
       "      <td>-0.811371</td>\n",
       "      <td>-1.339107</td>\n",
       "      <td>-0.920629</td>\n",
       "      <td>-0.975616</td>\n",
       "      <td>-0.038175</td>\n",
       "      <td>-0.842401</td>\n",
       "      <td>-0.873171</td>\n",
       "      <td>-1.056279</td>\n",
       "      <td>0.349132</td>\n",
       "      <td>-1.322495</td>\n",
       "      <td>-0.939210</td>\n",
       "      <td>-0.662214</td>\n",
       "      <td>-0.125226</td>\n",
       "      <td>-1.213735</td>\n",
       "    </tr>\n",
       "    <tr>\n",
       "      <th>2</th>\n",
       "      <td>1.239785</td>\n",
       "      <td>0.692672</td>\n",
       "      <td>1.824748</td>\n",
       "      <td>0.965217</td>\n",
       "      <td>2.720878</td>\n",
       "      <td>0.821571</td>\n",
       "      <td>0.758035</td>\n",
       "      <td>0.446283</td>\n",
       "      <td>2.684712</td>\n",
       "      <td>0.208485</td>\n",
       "      <td>0.745232</td>\n",
       "      <td>0.500570</td>\n",
       "      <td>3.293008</td>\n",
       "      <td>1.634357</td>\n",
       "      <td>0.741723</td>\n",
       "      <td>1.348338</td>\n",
       "    </tr>\n",
       "    <tr>\n",
       "      <th>3</th>\n",
       "      <td>-0.840449</td>\n",
       "      <td>-0.686400</td>\n",
       "      <td>0.404551</td>\n",
       "      <td>-0.991721</td>\n",
       "      <td>-0.770040</td>\n",
       "      <td>-0.654689</td>\n",
       "      <td>0.552951</td>\n",
       "      <td>-1.005338</td>\n",
       "      <td>-0.736330</td>\n",
       "      <td>-0.717503</td>\n",
       "      <td>0.166317</td>\n",
       "      <td>-1.059850</td>\n",
       "      <td>-0.618588</td>\n",
       "      <td>-0.115412</td>\n",
       "      <td>-0.356412</td>\n",
       "      <td>-0.701321</td>\n",
       "    </tr>\n",
       "    <tr>\n",
       "      <th>4</th>\n",
       "      <td>1.250909</td>\n",
       "      <td>-0.878829</td>\n",
       "      <td>0.920102</td>\n",
       "      <td>-0.134837</td>\n",
       "      <td>0.434669</td>\n",
       "      <td>0.333763</td>\n",
       "      <td>1.337097</td>\n",
       "      <td>0.179659</td>\n",
       "      <td>0.153141</td>\n",
       "      <td>1.111888</td>\n",
       "      <td>0.785858</td>\n",
       "      <td>0.207026</td>\n",
       "      <td>0.134875</td>\n",
       "      <td>1.218787</td>\n",
       "      <td>-0.044311</td>\n",
       "      <td>0.588550</td>\n",
       "    </tr>\n",
       "    <tr>\n",
       "      <th>...</th>\n",
       "      <td>...</td>\n",
       "      <td>...</td>\n",
       "      <td>...</td>\n",
       "      <td>...</td>\n",
       "      <td>...</td>\n",
       "      <td>...</td>\n",
       "      <td>...</td>\n",
       "      <td>...</td>\n",
       "      <td>...</td>\n",
       "      <td>...</td>\n",
       "      <td>...</td>\n",
       "      <td>...</td>\n",
       "      <td>...</td>\n",
       "      <td>...</td>\n",
       "      <td>...</td>\n",
       "      <td>...</td>\n",
       "    </tr>\n",
       "    <tr>\n",
       "      <th>445</th>\n",
       "      <td>-0.517846</td>\n",
       "      <td>-0.333614</td>\n",
       "      <td>-1.005919</td>\n",
       "      <td>-0.262212</td>\n",
       "      <td>-0.660521</td>\n",
       "      <td>-0.654689</td>\n",
       "      <td>-1.292809</td>\n",
       "      <td>-1.049775</td>\n",
       "      <td>-0.490015</td>\n",
       "      <td>-0.672333</td>\n",
       "      <td>-1.316519</td>\n",
       "      <td>-1.075300</td>\n",
       "      <td>-0.602557</td>\n",
       "      <td>-1.099657</td>\n",
       "      <td>-0.229260</td>\n",
       "      <td>-0.277254</td>\n",
       "    </tr>\n",
       "    <tr>\n",
       "      <th>446</th>\n",
       "      <td>-0.395479</td>\n",
       "      <td>0.414719</td>\n",
       "      <td>0.122457</td>\n",
       "      <td>0.502036</td>\n",
       "      <td>0.106112</td>\n",
       "      <td>-0.025674</td>\n",
       "      <td>-0.219132</td>\n",
       "      <td>-0.338777</td>\n",
       "      <td>-0.065806</td>\n",
       "      <td>-0.209339</td>\n",
       "      <td>-1.316519</td>\n",
       "      <td>-0.426412</td>\n",
       "      <td>-0.778899</td>\n",
       "      <td>-0.126348</td>\n",
       "      <td>0.117520</td>\n",
       "      <td>0.111475</td>\n",
       "    </tr>\n",
       "    <tr>\n",
       "      <th>447</th>\n",
       "      <td>0.060615</td>\n",
       "      <td>-1.252996</td>\n",
       "      <td>0.229458</td>\n",
       "      <td>0.386241</td>\n",
       "      <td>0.366219</td>\n",
       "      <td>-0.269578</td>\n",
       "      <td>-1.292809</td>\n",
       "      <td>-0.694276</td>\n",
       "      <td>-0.134226</td>\n",
       "      <td>-0.073828</td>\n",
       "      <td>-1.296207</td>\n",
       "      <td>-0.519110</td>\n",
       "      <td>-0.554463</td>\n",
       "      <td>-0.476302</td>\n",
       "      <td>-0.865022</td>\n",
       "      <td>0.040797</td>\n",
       "    </tr>\n",
       "    <tr>\n",
       "      <th>448</th>\n",
       "      <td>-1.285419</td>\n",
       "      <td>-0.130495</td>\n",
       "      <td>1.737202</td>\n",
       "      <td>-0.505382</td>\n",
       "      <td>-0.304585</td>\n",
       "      <td>-0.141208</td>\n",
       "      <td>-0.556918</td>\n",
       "      <td>-0.398027</td>\n",
       "      <td>-0.257384</td>\n",
       "      <td>-0.243216</td>\n",
       "      <td>-1.316519</td>\n",
       "      <td>-0.333714</td>\n",
       "      <td>0.022657</td>\n",
       "      <td>1.546868</td>\n",
       "      <td>-0.402649</td>\n",
       "      <td>0.235161</td>\n",
       "    </tr>\n",
       "    <tr>\n",
       "      <th>449</th>\n",
       "      <td>-0.673585</td>\n",
       "      <td>-1.252996</td>\n",
       "      <td>1.610746</td>\n",
       "      <td>-0.042201</td>\n",
       "      <td>1.119163</td>\n",
       "      <td>-1.514771</td>\n",
       "      <td>-0.520727</td>\n",
       "      <td>-0.131403</td>\n",
       "      <td>1.986819</td>\n",
       "      <td>-1.507980</td>\n",
       "      <td>0.684294</td>\n",
       "      <td>-0.241015</td>\n",
       "      <td>1.241023</td>\n",
       "      <td>0.890705</td>\n",
       "      <td>1.088502</td>\n",
       "      <td>-0.065220</td>\n",
       "    </tr>\n",
       "  </tbody>\n",
       "</table>\n",
       "<p>450 rows × 16 columns</p>\n",
       "</div>"
      ],
      "text/plain": [
       "           Z1        Z2        Z3        Z4        Z5        Z6        Z7  \\\n",
       "0    1.184164 -0.483281  0.599098 -0.378007  0.503118  0.680363 -0.026111   \n",
       "1   -0.595716 -1.220924 -0.811371 -1.339107 -0.920629 -0.975616 -0.038175   \n",
       "2    1.239785  0.692672  1.824748  0.965217  2.720878  0.821571  0.758035   \n",
       "3   -0.840449 -0.686400  0.404551 -0.991721 -0.770040 -0.654689  0.552951   \n",
       "4    1.250909 -0.878829  0.920102 -0.134837  0.434669  0.333763  1.337097   \n",
       "..        ...       ...       ...       ...       ...       ...       ...   \n",
       "445 -0.517846 -0.333614 -1.005919 -0.262212 -0.660521 -0.654689 -1.292809   \n",
       "446 -0.395479  0.414719  0.122457  0.502036  0.106112 -0.025674 -0.219132   \n",
       "447  0.060615 -1.252996  0.229458  0.386241  0.366219 -0.269578 -1.292809   \n",
       "448 -1.285419 -0.130495  1.737202 -0.505382 -0.304585 -0.141208 -0.556918   \n",
       "449 -0.673585 -1.252996  1.610746 -0.042201  1.119163 -1.514771 -0.520727   \n",
       "\n",
       "           Z8        Z9       Z10       Z11       Z12       Z13       Z14  \\\n",
       "0   -0.190653 -0.134226  0.852160 -0.260252 -0.241015  0.166938  0.978193   \n",
       "1   -0.842401 -0.873171 -1.056279  0.349132 -1.322495 -0.939210 -0.662214   \n",
       "2    0.446283  2.684712  0.208485  0.745232  0.500570  3.293008  1.634357   \n",
       "3   -1.005338 -0.736330 -0.717503  0.166317 -1.059850 -0.618588 -0.115412   \n",
       "4    0.179659  0.153141  1.111888  0.785858  0.207026  0.134875  1.218787   \n",
       "..        ...       ...       ...       ...       ...       ...       ...   \n",
       "445 -1.049775 -0.490015 -0.672333 -1.316519 -1.075300 -0.602557 -1.099657   \n",
       "446 -0.338777 -0.065806 -0.209339 -1.316519 -0.426412 -0.778899 -0.126348   \n",
       "447 -0.694276 -0.134226 -0.073828 -1.296207 -0.519110 -0.554463 -0.476302   \n",
       "448 -0.398027 -0.257384 -0.243216 -1.316519 -0.333714  0.022657  1.546868   \n",
       "449 -0.131403  1.986819 -1.507980  0.684294 -0.241015  1.241023  0.890705   \n",
       "\n",
       "          Z15       Z16  \n",
       "0   -0.078989  0.411856  \n",
       "1   -0.125226 -1.213735  \n",
       "2    0.741723  1.348338  \n",
       "3   -0.356412 -0.701321  \n",
       "4   -0.044311  0.588550  \n",
       "..        ...       ...  \n",
       "445 -0.229260 -0.277254  \n",
       "446  0.117520  0.111475  \n",
       "447 -0.865022  0.040797  \n",
       "448 -0.402649  0.235161  \n",
       "449  1.088502 -0.065220  \n",
       "\n",
       "[450 rows x 16 columns]"
      ]
     },
     "execution_count": 3,
     "metadata": {},
     "output_type": "execute_result"
    }
   ],
   "source": [
    "x"
   ]
  },
  {
   "cell_type": "code",
   "execution_count": 4,
   "id": "dd529f24",
   "metadata": {
    "scrolled": true
   },
   "outputs": [
    {
     "data": {
      "text/plain": [
       "0       HA\n",
       "1       HA\n",
       "2       HA\n",
       "3       HA\n",
       "4       HA\n",
       "      ... \n",
       "445    NGA\n",
       "446    NGA\n",
       "447    NGA\n",
       "448    NGA\n",
       "449    NGA\n",
       "Name: HURUF, Length: 450, dtype: object"
      ]
     },
     "execution_count": 4,
     "metadata": {},
     "output_type": "execute_result"
    }
   ],
   "source": [
    "y"
   ]
  },
  {
   "cell_type": "markdown",
   "id": "72997cad",
   "metadata": {},
   "source": [
    "."
   ]
  },
  {
   "cell_type": "markdown",
   "id": "9ba1968c",
   "metadata": {},
   "source": [
    "."
   ]
  },
  {
   "cell_type": "markdown",
   "id": "0617cfe2",
   "metadata": {},
   "source": [
    "# Data Training"
   ]
  },
  {
   "cell_type": "markdown",
   "id": "64310d27",
   "metadata": {},
   "source": [
    "## Algoritma KNN"
   ]
  },
  {
   "cell_type": "markdown",
   "id": "d3d89678",
   "metadata": {},
   "source": [
    "1. Menghitung jarak ke semua Titik menggunakan Euclidean Distance\n",
    "2. Mengambil titik terdekat sebanyak K\n",
    "3. Mengambil label class terbaik\n",
    "4. Melakukan voting terhadap label terbanyak"
   ]
  },
  {
   "cell_type": "code",
   "execution_count": 51,
   "id": "8b4bb579",
   "metadata": {},
   "outputs": [],
   "source": [
    "from collections import Counter\n",
    "\n",
    "class KNN:\n",
    "    def __init__(self, k=3):\n",
    "        self.K = k\n",
    "        self.k_terbaik = []\n",
    "\n",
    "    def train(self, xtrain, ytrain):\n",
    "        if isinstance(xtrain, pd.DataFrame):\n",
    "            xtrain = xtrain.values\n",
    "\n",
    "        self.x_train = xtrain\n",
    "        self.y_train = ytrain\n",
    "    \n",
    "    def predict(self, xpred):\n",
    "        if isinstance(xpred, pd.DataFrame):\n",
    "            xpred = xpred.values\n",
    "\n",
    "        #Melakukan prediksi label untuk setiap nilai x yang dimasukkan ke dalam xpred\n",
    "        y_pred = [self._prediksi(x) for x in xpred]\n",
    "        return np.array(y_pred)\n",
    "\n",
    "    def _prediksi(self, x):\n",
    "        #1. Menghitung jarak ke semua titik\n",
    "        jarak_titik = [self.hitungjarak(x, x_piece) for x_piece in self.x_train]\n",
    "\n",
    "        #2. Mengambil Titik terdekat sebanyak \"K\"\n",
    "        k_terbaik = np.argsort(jarak_titik)[:self.K]\n",
    "        # print(k_terbaik)\n",
    "\n",
    "        #3. Mengambil label class dari k_terbaik\n",
    "        label_k_terbaik = [self.y_train[i] for i in k_terbaik]\n",
    "        self.k_terbaik.append(label_k_terbaik)\n",
    "    \n",
    "        #4. Melakukan voting label mayoritas\n",
    "        hasil_voting = Counter(label_k_terbaik).most_common(1)\n",
    "        # print(hasil_voting)\n",
    "        \n",
    "        return hasil_voting[0][0]\n",
    "\n",
    "    def hitungjarak(self, x1, x2):\n",
    "        #Euclidean distance\n",
    "        jarak = np.sqrt(np.sum((x1 - x2)**2))\n",
    "        return jarak\n",
    "    \n",
    "    \n",
    "    def score(self, xtest, ytest):\n",
    "        prediction = self.predict(xtest)\n",
    "        akurasi = np.sum(prediction == ytest) / len(x_test)\n",
    "        return akurasi"
   ]
  },
  {
   "cell_type": "markdown",
   "id": "262fcd89",
   "metadata": {},
   "source": [
    "### Algoritma Test Split"
   ]
  },
  {
   "cell_type": "code",
   "execution_count": 67,
   "id": "d53345aa",
   "metadata": {},
   "outputs": [],
   "source": [
    "def TestSplit(x, y, testsize=0.75):\n",
    "    x_shuffle = x.sample(frac=1)\n",
    "    \n",
    "    testsize = int(testsize * len(x))\n",
    "    \n",
    "    x_test = x_shuffle[testsize:]\n",
    "    y_test = [y[i] for i in x_test.index]\n",
    "    \n",
    "    return x_test, y_test"
   ]
  },
  {
   "cell_type": "markdown",
   "id": "bbc9ba1e",
   "metadata": {},
   "source": [
    "."
   ]
  },
  {
   "cell_type": "code",
   "execution_count": 53,
   "id": "0d634a84",
   "metadata": {},
   "outputs": [],
   "source": [
    "x_test, y_test = TestSplit(x, y)"
   ]
  },
  {
   "cell_type": "code",
   "execution_count": 54,
   "id": "43fb0f90",
   "metadata": {
    "scrolled": false
   },
   "outputs": [
    {
     "name": "stdout",
     "output_type": "stream",
     "text": [
      "(450, 16)\n",
      "(113, 16)\n"
     ]
    }
   ],
   "source": [
    "print(x.shape)\n",
    "print(x_test.shape)"
   ]
  },
  {
   "cell_type": "markdown",
   "id": "c6f962ef",
   "metadata": {},
   "source": [
    "Contoh hasil prediksi"
   ]
  },
  {
   "cell_type": "code",
   "execution_count": 55,
   "id": "fb666d14",
   "metadata": {},
   "outputs": [
    {
     "data": {
      "text/plain": [
       "array(['MA', 'PA', 'DA', 'JA', 'LA', 'WA', 'KA', 'GA', 'PA', 'DHA', 'BA',\n",
       "       'NA', 'RA', 'CA', 'YA', 'DA', 'BA', 'NGA', 'RA', 'HA', 'RA', 'SA',\n",
       "       'GA', 'TA', 'MA', 'DA', 'HA', 'NGA', 'LA', 'YA', 'NA', 'HA', 'WA',\n",
       "       'THA', 'NA', 'SA', 'KA', 'NYA', 'HA', 'SA', 'RA', 'PA', 'PA',\n",
       "       'NGA', 'GA', 'CA', 'NYA', 'BA', 'DA', 'NA', 'BA', 'BA', 'BA', 'SA',\n",
       "       'GA', 'PA', 'BA', 'BA', 'NA', 'GA', 'PA', 'NGA', 'BA', 'DA', 'TA',\n",
       "       'DA', 'NYA', 'BA', 'RA', 'NYA', 'NYA', 'NGA', 'PA', 'TA', 'KA',\n",
       "       'PA', 'NA', 'DA', 'GA', 'TA', 'KA', 'WA', 'CA', 'WA', 'JA', 'MA',\n",
       "       'GA', 'RA', 'TA', 'GA', 'JA', 'WA', 'NA', 'PA', 'SA', 'NGA', 'CA',\n",
       "       'NYA', 'MA', 'GA', 'NGA', 'KA', 'WA', 'CA', 'DA', 'BA', 'PA',\n",
       "       'DHA', 'THA', 'LA', 'TA', 'RA', 'NA'], dtype='<U3')"
      ]
     },
     "execution_count": 55,
     "metadata": {},
     "output_type": "execute_result"
    }
   ],
   "source": [
    "model = KNN(k=3)\n",
    "model.train(x, y)\n",
    "model.predict(x_test)"
   ]
  },
  {
   "cell_type": "code",
   "execution_count": 56,
   "id": "18244791",
   "metadata": {},
   "outputs": [
    {
     "data": {
      "text/plain": [
       "[['MA', 'WA', 'PA'],\n",
       " ['PA', 'DHA', 'WA'],\n",
       " ['DA', 'SA', 'YA'],\n",
       " ['JA', 'DA', 'NA'],\n",
       " ['LA', 'PA', 'WA'],\n",
       " ['WA', 'WA', 'DHA'],\n",
       " ['KA', 'KA', 'PA'],\n",
       " ['GA', 'GA', 'NYA'],\n",
       " ['YA', 'PA', 'PA'],\n",
       " ['DHA', 'NGA', 'PA'],\n",
       " ['BA', 'MA', 'WA'],\n",
       " ['NA', 'KA', 'NA'],\n",
       " ['RA', 'RA', 'RA'],\n",
       " ['CA', 'BA', 'DA'],\n",
       " ['JA', 'YA', 'YA'],\n",
       " ['DA', 'DA', 'DA'],\n",
       " ['BA', 'BA', 'HA'],\n",
       " ['NGA', 'NGA', 'THA'],\n",
       " ['RA', 'RA', 'RA'],\n",
       " ['HA', 'DHA', 'WA'],\n",
       " ['RA', 'RA', 'RA'],\n",
       " ['SA', 'SA', 'SA'],\n",
       " ['GA', 'MA', 'WA'],\n",
       " ['TA', 'HA', 'TA'],\n",
       " ['MA', 'MA', 'GA'],\n",
       " ['DA', 'NA', 'PA'],\n",
       " ['HA', 'HA', 'SA'],\n",
       " ['NGA', 'NGA', 'NGA'],\n",
       " ['LA', 'JA', 'YA'],\n",
       " ['YA', 'PA', 'YA'],\n",
       " ['NA', 'NA', 'DA'],\n",
       " ['HA', 'DHA', 'YA'],\n",
       " ['WA', 'BA', 'WA'],\n",
       " ['THA', 'THA', 'NGA'],\n",
       " ['NA', 'KA', 'NA'],\n",
       " ['SA', 'SA', 'JA'],\n",
       " ['KA', 'KA', 'KA'],\n",
       " ['NYA', 'NYA', 'TA'],\n",
       " ['HA', 'WA', 'YA'],\n",
       " ['SA', 'SA', 'PA'],\n",
       " ['RA', 'RA', 'RA'],\n",
       " ['YA', 'PA', 'PA'],\n",
       " ['PA', 'BA', 'DA'],\n",
       " ['NGA', 'WA', 'NGA'],\n",
       " ['GA', 'GA', 'GA'],\n",
       " ['CA', 'DHA', 'JA'],\n",
       " ['NYA', 'NYA', 'TA'],\n",
       " ['BA', 'CA', 'NYA'],\n",
       " ['DA', 'DA', 'NA'],\n",
       " ['NA', 'JA', 'WA'],\n",
       " ['BA', 'HA', 'GA'],\n",
       " ['BA', 'BA', 'NYA'],\n",
       " ['BA', 'BA', 'THA'],\n",
       " ['SA', 'YA', 'CA'],\n",
       " ['GA', 'GA', 'WA'],\n",
       " ['PA', 'PA', 'PA'],\n",
       " ['BA', 'BA', 'NGA'],\n",
       " ['THA', 'BA', 'BA'],\n",
       " ['KA', 'NA', 'NA'],\n",
       " ['GA', 'NYA', 'BA'],\n",
       " ['PA', 'PA', 'CA'],\n",
       " ['NGA', 'NGA', 'NGA'],\n",
       " ['NYA', 'BA', 'BA'],\n",
       " ['DA', 'DA', 'JA'],\n",
       " ['TA', 'JA', 'HA'],\n",
       " ['DA', 'JA', 'HA'],\n",
       " ['BA', 'NYA', 'NYA'],\n",
       " ['BA', 'HA', 'NGA'],\n",
       " ['RA', 'HA', 'RA'],\n",
       " ['NYA', 'TA', 'WA'],\n",
       " ['NYA', 'BA', 'WA'],\n",
       " ['NGA', 'WA', 'NGA'],\n",
       " ['PA', 'WA', 'PA'],\n",
       " ['TA', 'TA', 'TA'],\n",
       " ['KA', 'KA', 'HA'],\n",
       " ['PA', 'LA', 'MA'],\n",
       " ['NA', 'NA', 'NA'],\n",
       " ['DA', 'JA', 'DA'],\n",
       " ['GA', 'GA', 'WA'],\n",
       " ['TA', 'WA', 'HA'],\n",
       " ['KA', 'CA', 'SA'],\n",
       " ['WA', 'NYA', 'HA'],\n",
       " ['CA', 'WA', 'DHA'],\n",
       " ['WA', 'CA', 'BA'],\n",
       " ['JA', 'DA', 'JA'],\n",
       " ['MA', 'MA', 'MA'],\n",
       " ['GA', 'GA', 'GA'],\n",
       " ['RA', 'RA', 'RA'],\n",
       " ['TA', 'BA', 'TA'],\n",
       " ['GA', 'KA', 'GA'],\n",
       " ['JA', 'TA', 'JA'],\n",
       " ['WA', 'PA', 'DHA'],\n",
       " ['NA', 'NA', 'KA'],\n",
       " ['PA', 'PA', 'DA'],\n",
       " ['SA', 'SA', 'CA'],\n",
       " ['NGA', 'NGA', 'YA'],\n",
       " ['CA', 'KA', 'CA'],\n",
       " ['NYA', 'NYA', 'NYA'],\n",
       " ['MA', 'MA', 'YA'],\n",
       " ['GA', 'GA', 'NYA'],\n",
       " ['NGA', 'NGA', 'NGA'],\n",
       " ['KA', 'NA', 'KA'],\n",
       " ['WA', 'JA', 'WA'],\n",
       " ['CA', 'BA', 'SA'],\n",
       " ['DA', 'SA', 'PA'],\n",
       " ['BA', 'BA', 'NYA'],\n",
       " ['PA', 'PA', 'PA'],\n",
       " ['DHA', 'TA', 'CA'],\n",
       " ['THA', 'THA', 'YA'],\n",
       " ['LA', 'LA', 'LA'],\n",
       " ['TA', 'NA', 'PA'],\n",
       " ['RA', 'RA', 'RA'],\n",
       " ['NA', 'DA', 'KA']]"
      ]
     },
     "execution_count": 56,
     "metadata": {},
     "output_type": "execute_result"
    }
   ],
   "source": [
    "model.k_terbaik"
   ]
  },
  {
   "cell_type": "code",
   "execution_count": 68,
   "id": "ce16777c",
   "metadata": {},
   "outputs": [],
   "source": [
    "Kterbaik = pd.DataFrame(model.k_terbaik, columns=['k1','k2','k3'])\n",
    "Kterbaik['hasil Voting'] = model.predict(x_test)"
   ]
  },
  {
   "cell_type": "code",
   "execution_count": 69,
   "id": "ba85522b",
   "metadata": {},
   "outputs": [
    {
     "data": {
      "text/html": [
       "<div>\n",
       "<style scoped>\n",
       "    .dataframe tbody tr th:only-of-type {\n",
       "        vertical-align: middle;\n",
       "    }\n",
       "\n",
       "    .dataframe tbody tr th {\n",
       "        vertical-align: top;\n",
       "    }\n",
       "\n",
       "    .dataframe thead th {\n",
       "        text-align: right;\n",
       "    }\n",
       "</style>\n",
       "<table border=\"1\" class=\"dataframe\">\n",
       "  <thead>\n",
       "    <tr style=\"text-align: right;\">\n",
       "      <th></th>\n",
       "      <th>k1</th>\n",
       "      <th>k2</th>\n",
       "      <th>k3</th>\n",
       "      <th>hasil Voting</th>\n",
       "    </tr>\n",
       "  </thead>\n",
       "  <tbody>\n",
       "    <tr>\n",
       "      <th>0</th>\n",
       "      <td>THA</td>\n",
       "      <td>DHA</td>\n",
       "      <td>SA</td>\n",
       "      <td>THA</td>\n",
       "    </tr>\n",
       "    <tr>\n",
       "      <th>1</th>\n",
       "      <td>LA</td>\n",
       "      <td>LA</td>\n",
       "      <td>LA</td>\n",
       "      <td>LA</td>\n",
       "    </tr>\n",
       "    <tr>\n",
       "      <th>2</th>\n",
       "      <td>LA</td>\n",
       "      <td>THA</td>\n",
       "      <td>MA</td>\n",
       "      <td>LA</td>\n",
       "    </tr>\n",
       "    <tr>\n",
       "      <th>3</th>\n",
       "      <td>PA</td>\n",
       "      <td>PA</td>\n",
       "      <td>PA</td>\n",
       "      <td>PA</td>\n",
       "    </tr>\n",
       "    <tr>\n",
       "      <th>4</th>\n",
       "      <td>LA</td>\n",
       "      <td>MA</td>\n",
       "      <td>MA</td>\n",
       "      <td>MA</td>\n",
       "    </tr>\n",
       "    <tr>\n",
       "      <th>5</th>\n",
       "      <td>WA</td>\n",
       "      <td>KA</td>\n",
       "      <td>KA</td>\n",
       "      <td>KA</td>\n",
       "    </tr>\n",
       "    <tr>\n",
       "      <th>6</th>\n",
       "      <td>TA</td>\n",
       "      <td>HA</td>\n",
       "      <td>DHA</td>\n",
       "      <td>TA</td>\n",
       "    </tr>\n",
       "    <tr>\n",
       "      <th>7</th>\n",
       "      <td>NGA</td>\n",
       "      <td>NGA</td>\n",
       "      <td>CA</td>\n",
       "      <td>NGA</td>\n",
       "    </tr>\n",
       "    <tr>\n",
       "      <th>8</th>\n",
       "      <td>PA</td>\n",
       "      <td>YA</td>\n",
       "      <td>PA</td>\n",
       "      <td>PA</td>\n",
       "    </tr>\n",
       "    <tr>\n",
       "      <th>9</th>\n",
       "      <td>LA</td>\n",
       "      <td>LA</td>\n",
       "      <td>LA</td>\n",
       "      <td>LA</td>\n",
       "    </tr>\n",
       "    <tr>\n",
       "      <th>10</th>\n",
       "      <td>NYA</td>\n",
       "      <td>NYA</td>\n",
       "      <td>NYA</td>\n",
       "      <td>NYA</td>\n",
       "    </tr>\n",
       "    <tr>\n",
       "      <th>11</th>\n",
       "      <td>CA</td>\n",
       "      <td>PA</td>\n",
       "      <td>CA</td>\n",
       "      <td>CA</td>\n",
       "    </tr>\n",
       "    <tr>\n",
       "      <th>12</th>\n",
       "      <td>THA</td>\n",
       "      <td>SA</td>\n",
       "      <td>DHA</td>\n",
       "      <td>THA</td>\n",
       "    </tr>\n",
       "    <tr>\n",
       "      <th>13</th>\n",
       "      <td>LA</td>\n",
       "      <td>NA</td>\n",
       "      <td>LA</td>\n",
       "      <td>LA</td>\n",
       "    </tr>\n",
       "    <tr>\n",
       "      <th>14</th>\n",
       "      <td>BA</td>\n",
       "      <td>BA</td>\n",
       "      <td>THA</td>\n",
       "      <td>BA</td>\n",
       "    </tr>\n",
       "    <tr>\n",
       "      <th>15</th>\n",
       "      <td>HA</td>\n",
       "      <td>PA</td>\n",
       "      <td>WA</td>\n",
       "      <td>HA</td>\n",
       "    </tr>\n",
       "    <tr>\n",
       "      <th>16</th>\n",
       "      <td>JA</td>\n",
       "      <td>PA</td>\n",
       "      <td>KA</td>\n",
       "      <td>JA</td>\n",
       "    </tr>\n",
       "    <tr>\n",
       "      <th>17</th>\n",
       "      <td>NYA</td>\n",
       "      <td>BA</td>\n",
       "      <td>TA</td>\n",
       "      <td>NYA</td>\n",
       "    </tr>\n",
       "    <tr>\n",
       "      <th>18</th>\n",
       "      <td>DHA</td>\n",
       "      <td>MA</td>\n",
       "      <td>DHA</td>\n",
       "      <td>DHA</td>\n",
       "    </tr>\n",
       "    <tr>\n",
       "      <th>19</th>\n",
       "      <td>GA</td>\n",
       "      <td>GA</td>\n",
       "      <td>GA</td>\n",
       "      <td>GA</td>\n",
       "    </tr>\n",
       "  </tbody>\n",
       "</table>\n",
       "</div>"
      ],
      "text/plain": [
       "     k1   k2   k3 hasil Voting\n",
       "0   THA  DHA   SA          THA\n",
       "1    LA   LA   LA           LA\n",
       "2    LA  THA   MA           LA\n",
       "3    PA   PA   PA           PA\n",
       "4    LA   MA   MA           MA\n",
       "5    WA   KA   KA           KA\n",
       "6    TA   HA  DHA           TA\n",
       "7   NGA  NGA   CA          NGA\n",
       "8    PA   YA   PA           PA\n",
       "9    LA   LA   LA           LA\n",
       "10  NYA  NYA  NYA          NYA\n",
       "11   CA   PA   CA           CA\n",
       "12  THA   SA  DHA          THA\n",
       "13   LA   NA   LA           LA\n",
       "14   BA   BA  THA           BA\n",
       "15   HA   PA   WA           HA\n",
       "16   JA   PA   KA           JA\n",
       "17  NYA   BA   TA          NYA\n",
       "18  DHA   MA  DHA          DHA\n",
       "19   GA   GA   GA           GA"
      ]
     },
     "execution_count": 69,
     "metadata": {},
     "output_type": "execute_result"
    }
   ],
   "source": [
    "Kterbaik.head(20)"
   ]
  },
  {
   "cell_type": "code",
   "execution_count": 13,
   "id": "ff71543f",
   "metadata": {},
   "outputs": [
    {
     "data": {
      "text/plain": [
       "0.7256637168141593"
      ]
     },
     "execution_count": 13,
     "metadata": {},
     "output_type": "execute_result"
    }
   ],
   "source": [
    "model = KNN(k=7)\n",
    "model.train(x, y)\n",
    "model.score(x_test, y_test)"
   ]
  },
  {
   "cell_type": "markdown",
   "id": "f867277f",
   "metadata": {},
   "source": [
    "### Mencoba Training menggunakan data hasil MinMax"
   ]
  },
  {
   "cell_type": "code",
   "execution_count": 71,
   "id": "dd40bda4",
   "metadata": {},
   "outputs": [
    {
     "name": "stdout",
     "output_type": "stream",
     "text": [
      "3, Akurasi = 0.9911504424778761\n",
      "4, Akurasi = 0.9380530973451328\n",
      "5, Akurasi = 0.911504424778761\n",
      "6, Akurasi = 0.9026548672566371\n",
      "8, Akurasi = 0.9203539823008849\n"
     ]
    }
   ],
   "source": [
    "x = dfmms.drop('HURUF', axis=1)\n",
    "y = dfmms['HURUF']\n",
    "\n",
    "for k in range(3, 10):\n",
    "    x_test, y_test = TestSplit(x, y)\n",
    "    model = KNN(3)\n",
    "    model.train(x, y)\n",
    "    akurasi = model.score(x_test, y_test)\n",
    "    if akurasi > 0.9:\n",
    "        print(f'{k}, Akurasi = {akurasi}')\n",
    "    else:\n",
    "        continue"
   ]
  },
  {
   "cell_type": "markdown",
   "id": "8dd11052",
   "metadata": {},
   "source": [
    "."
   ]
  },
  {
   "cell_type": "markdown",
   "id": "a8880257",
   "metadata": {},
   "source": [
    "### Mencoba Training menggunaan data hasil ZScore"
   ]
  },
  {
   "cell_type": "code",
   "execution_count": 70,
   "id": "c3fc34e1",
   "metadata": {},
   "outputs": [
    {
     "name": "stdout",
     "output_type": "stream",
     "text": [
      "1, Akurasi = 0.911504424778761\n",
      "3, Akurasi = 0.9203539823008849\n",
      "4, Akurasi = 0.9203539823008849\n",
      "5, Akurasi = 0.911504424778761\n",
      "6, Akurasi = 0.9292035398230089\n",
      "7, Akurasi = 0.9380530973451328\n",
      "8, Akurasi = 0.9380530973451328\n"
     ]
    }
   ],
   "source": [
    "x = dfz.drop('HURUF', axis=1)\n",
    "y = dfz['HURUF']\n",
    "\n",
    "x_test, y_test = TestSplit(x, y)\n",
    "\n",
    "for k in range(1, 10):\n",
    "    x_test, y_test = TestSplit(x, y)\n",
    "    model = KNN(3)\n",
    "    model.train(x, y)\n",
    "    akurasi = model.score(x_test, y_test)\n",
    "    if akurasi > 0.9:\n",
    "        print(f'{k}, Akurasi = {akurasi}')\n",
    "    else:\n",
    "        continue"
   ]
  },
  {
   "cell_type": "code",
   "execution_count": 16,
   "id": "ac27b2de",
   "metadata": {},
   "outputs": [
    {
     "data": {
      "text/plain": [
       "0.9203539823008849"
      ]
     },
     "execution_count": 16,
     "metadata": {},
     "output_type": "execute_result"
    }
   ],
   "source": [
    "\n",
    "\n",
    "model = KNN(k=3)\n",
    "model.train(x, y)\n",
    "model.score(x_test, y_test)"
   ]
  },
  {
   "cell_type": "markdown",
   "id": "6b092cd8",
   "metadata": {},
   "source": [
    "."
   ]
  },
  {
   "cell_type": "markdown",
   "id": "68d511d9",
   "metadata": {},
   "source": [
    "## Percobaan eksekusi menggunakan data test asli"
   ]
  },
  {
   "cell_type": "code",
   "execution_count": 17,
   "id": "a84eebfd",
   "metadata": {},
   "outputs": [],
   "source": [
    "x_train = dfz.drop('HURUF', axis=1)\n",
    "y_train = dfz['HURUF']"
   ]
  },
  {
   "cell_type": "markdown",
   "id": "925ef4a6",
   "metadata": {},
   "source": [
    "Data Preprocessing untuk dftest"
   ]
  },
  {
   "cell_type": "code",
   "execution_count": 18,
   "id": "b67c27f8",
   "metadata": {},
   "outputs": [],
   "source": [
    "dfz_test = dftest.copy()\n",
    "for i in cols:\n",
    "    dfz_test[i] = (dftest[i]-dftest[i].mean())/dftest[i].std()"
   ]
  },
  {
   "cell_type": "code",
   "execution_count": 19,
   "id": "4faf6530",
   "metadata": {},
   "outputs": [],
   "source": [
    "x_test = dfz_test.values"
   ]
  },
  {
   "cell_type": "code",
   "execution_count": 20,
   "id": "dd3f3993",
   "metadata": {},
   "outputs": [
    {
     "data": {
      "text/plain": [
       "array([[ 0.28050145,  0.66613818, -0.85364906, ..., -1.33530759,\n",
       "        -1.47381506,  0.60645999],\n",
       "       [-0.40409369, -0.57736867, -1.51258809, ..., -1.19316958,\n",
       "         0.24615133,  0.02773077],\n",
       "       [-0.30825037,  0.22595877, -0.86333934, ..., -0.36403122,\n",
       "         1.1513968 ,  1.20327449],\n",
       "       ...,\n",
       "       [-1.85543537, -1.53475889,  0.73555685, ...,  0.37034847,\n",
       "         0.75535191, -1.12972765],\n",
       "       [ 0.99248038,  0.31399465,  1.29759308, ...,  0.84414181,\n",
       "        -1.38329051,  1.07667747],\n",
       "       [-0.74639125, -0.78645389,  1.22007084, ...,  0.63093481,\n",
       "         0.54035611,  0.5883747 ]])"
      ]
     },
     "execution_count": 20,
     "metadata": {},
     "output_type": "execute_result"
    }
   ],
   "source": [
    "x_test"
   ]
  },
  {
   "cell_type": "code",
   "execution_count": 21,
   "id": "6dd6bbe8",
   "metadata": {},
   "outputs": [
    {
     "data": {
      "text/plain": [
       "array(['NA', 'LA', 'PA', 'CA', 'BA', 'DHA', 'JA', 'LA', 'KA', 'GA', 'NA',\n",
       "       'KA', 'DA', 'NA', 'MA', 'BA', 'NYA', 'GA', 'NGA', 'RA', 'THA',\n",
       "       'DA', 'WA', 'TA', 'KA', 'DHA', 'NGA', 'GA', 'DHA', 'GA', 'NA',\n",
       "       'BA', 'NYA', 'THA', 'BA', 'JA', 'JA', 'NGA', 'LA', 'LA', 'YA',\n",
       "       'PA', 'CA', 'TA', 'WA', 'MA', 'NGA', 'NYA', 'LA', 'CA', 'WA', 'YA',\n",
       "       'NA', 'PA', 'CA', 'RA', 'BA', 'SA', 'KA', 'LA', 'CA', 'JA', 'NYA',\n",
       "       'MA', 'YA', 'PA', 'RA', 'LA', 'PA', 'RA', 'PA', 'YA', 'MA', 'THA',\n",
       "       'BA', 'HA', 'LA', 'YA', 'GA', 'NYA', 'JA', 'SA', 'LA', 'SA', 'NA',\n",
       "       'CA', 'LA', 'BA', 'DHA', 'DHA', 'JA', 'NYA', 'NGA', 'NYA', 'LA',\n",
       "       'NA', 'RA', 'NA', 'PA', 'TA', 'NA', 'GA', 'YA', 'TA', 'NA', 'BA',\n",
       "       'DA', 'NA', 'CA', 'YA', 'JA', 'NYA', 'MA', 'MA', 'BA', 'YA', 'NA',\n",
       "       'SA', 'DA', 'RA', 'THA', 'JA', 'DA', 'LA', 'DHA', 'LA', 'SA', 'WA',\n",
       "       'NGA', 'DHA', 'YA', 'RA', 'PA', 'NA', 'MA', 'NA', 'CA', 'MA', 'GA',\n",
       "       'DA', 'DA', 'NYA', 'SA', 'NGA', 'TA', 'SA', 'DA', 'JA', 'BA', 'WA'],\n",
       "      dtype='<U3')"
      ]
     },
     "execution_count": 21,
     "metadata": {},
     "output_type": "execute_result"
    }
   ],
   "source": [
    "model = KNN(k=3)\n",
    "model.train(x, y)\n",
    "model.predict(x_test)"
   ]
  },
  {
   "cell_type": "code",
   "execution_count": 63,
   "id": "5c3065a8",
   "metadata": {},
   "outputs": [
    {
     "data": {
      "text/plain": [
       "'NA'"
      ]
     },
     "execution_count": 63,
     "metadata": {},
     "output_type": "execute_result"
    }
   ],
   "source": [
    "model.predict(dftest[12:13])[0]"
   ]
  },
  {
   "cell_type": "code",
   "execution_count": 62,
   "id": "131e1fbe",
   "metadata": {},
   "outputs": [
    {
     "data": {
      "text/plain": [
       "0.9203539823008849"
      ]
     },
     "execution_count": 62,
     "metadata": {},
     "output_type": "execute_result"
    }
   ],
   "source": [
    "x_test, y_test = TestSplit(x, y)\n",
    "\n",
    "x = dfz.drop('HURUF', axis=1)\n",
    "y = dfz['HURUF']\n",
    "\n",
    "model = KNN(k=3)\n",
    "model.train(x, y)\n",
    "model.score(x_test, y_test)"
   ]
  },
  {
   "cell_type": "code",
   "execution_count": null,
   "id": "52bafa87",
   "metadata": {},
   "outputs": [],
   "source": []
  }
 ],
 "metadata": {
  "kernelspec": {
   "display_name": "Python 3 (ipykernel)",
   "language": "python",
   "name": "python3"
  },
  "language_info": {
   "codemirror_mode": {
    "name": "ipython",
    "version": 3
   },
   "file_extension": ".py",
   "mimetype": "text/x-python",
   "name": "python",
   "nbconvert_exporter": "python",
   "pygments_lexer": "ipython3",
   "version": "3.9.7"
  }
 },
 "nbformat": 4,
 "nbformat_minor": 5
}
