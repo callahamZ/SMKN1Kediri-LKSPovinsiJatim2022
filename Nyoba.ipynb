{
 "cells": [
  {
   "cell_type": "code",
   "execution_count": null,
   "id": "9d65308b",
   "metadata": {},
   "outputs": [],
   "source": [
    "def TombolPrediksi(z1,z2,z3,z,z4,\n",
    "                   z5,z6,z7,z8,\n",
    "                   z9,z10,z11,z12, k):\n",
    "    \n",
    "    arrayX = np.array(z1,z2,z3,z4,\n",
    "                      z5,z6,z7,z8,\n",
    "                      z9,z10,z11,z12,\n",
    "                      z13,z14,z15,,z16)\n",
    "    \n",
    "    x_zscore = (arrayX - np.mean(arrayX)) / np.std(arrayX)\n",
    "    \n",
    "    global x\n",
    "    global y\n",
    "    global labelLoading\n",
    "    model = AI.KNN(k)\n",
    "    model.fit(x, y)\n",
    "    hasil = model.predict(arrayX)[0]\n",
    "    \n",
    "    #Animasi loading\n",
    "    sleep(1)\n",
    "    for i in [1,2,3]:\n",
    "        labelLoading.place(blablabla)\n",
    "        sleep(0.5)\n",
    "        labelLoading.place()\n",
    "    \n",
    "    label['img'] = path\n",
    "    \n",
    "def "
   ]
  },
  {
   "cell_type": "code",
   "execution_count": 24,
   "id": "140f1c0f",
   "metadata": {},
   "outputs": [
    {
     "data": {
      "text/plain": [
       "2"
      ]
     },
     "execution_count": 24,
     "metadata": {},
     "output_type": "execute_result"
    }
   ],
   "source": [
    "import numpy as np\n",
    "\n",
    "y_actu = np.array([1,0,1,1])\n",
    "y_pred = np.array([0,0,0,1])\n",
    "\n",
    "np.sum(y_actu == y_pred)"
   ]
  },
  {
   "cell_type": "code",
   "execution_count": 25,
   "id": "594fd61c",
   "metadata": {},
   "outputs": [
    {
     "data": {
      "text/plain": [
       "0.5"
      ]
     },
     "execution_count": 25,
     "metadata": {},
     "output_type": "execute_result"
    }
   ],
   "source": [
    "np.sum(y_actu == y_pred) / 4"
   ]
  }
 ],
 "metadata": {
  "kernelspec": {
   "display_name": "Python 3 (ipykernel)",
   "language": "python",
   "name": "python3"
  },
  "language_info": {
   "codemirror_mode": {
    "name": "ipython",
    "version": 3
   },
   "file_extension": ".py",
   "mimetype": "text/x-python",
   "name": "python",
   "nbconvert_exporter": "python",
   "pygments_lexer": "ipython3",
   "version": "3.9.7"
  }
 },
 "nbformat": 4,
 "nbformat_minor": 5
}
